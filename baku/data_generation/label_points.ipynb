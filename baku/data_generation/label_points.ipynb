{
 "cells": [
  {
   "cell_type": "code",
   "execution_count": 51,
   "metadata": {},
   "outputs": [
    {
     "name": "stderr",
     "output_type": "stream",
     "text": [
      "[ERROR:0] global /tmp/pip-req-build-3umofm98/opencv/modules/videoio/src/cap.cpp (160) open VIDEOIO(CV_IMAGES): raised OpenCV exception:\n",
      "\n",
      "OpenCV(4.5.3) /tmp/pip-req-build-3umofm98/opencv/modules/videoio/src/cap_images.cpp:293: error: (-215:Assertion failed) !_filename.empty() in function 'open'\n",
      "\n",
      "\n"
     ]
    },
    {
     "ename": "TypeError",
     "evalue": "'NoneType' object is not subscriptable",
     "output_type": "error",
     "traceback": [
      "\u001b[0;31m---------------------------------------------------------------------------\u001b[0m",
      "\u001b[0;31mTypeError\u001b[0m                                 Traceback (most recent call last)",
      "Cell \u001b[0;32mIn[51], line 22\u001b[0m\n\u001b[1;32m     19\u001b[0m     img \u001b[38;5;241m=\u001b[39m cv2\u001b[38;5;241m.\u001b[39mimread(path)\n\u001b[1;32m     21\u001b[0m \u001b[38;5;66;03m# We flip here because CV2 reads in as BGR\u001b[39;00m\n\u001b[0;32m---> 22\u001b[0m img \u001b[38;5;241m=\u001b[39m \u001b[43mimg\u001b[49m\u001b[43m[\u001b[49m\u001b[43m:\u001b[49m\u001b[43m,\u001b[49m\u001b[43m:\u001b[49m\u001b[43m,\u001b[49m\u001b[43m:\u001b[49m\u001b[43m:\u001b[49m\u001b[38;5;241;43m-\u001b[39;49m\u001b[38;5;241;43m1\u001b[39;49m\u001b[43m]\u001b[49m\n\u001b[1;32m     24\u001b[0m \u001b[38;5;66;03m#TODO: If its hard to see the image, you can increase the size_multiplier, this won't affect the selected coordinates\u001b[39;00m\n\u001b[1;32m     25\u001b[0m size_multiplier \u001b[38;5;241m=\u001b[39m \u001b[38;5;241m1\u001b[39m\n",
      "\u001b[0;31mTypeError\u001b[0m: 'NoneType' object is not subscriptable"
     ]
    }
   ],
   "source": [
    "import cv2\n",
    "# If you want to read a video file set the path under path, \n",
    "# If you want to use a specific image set use_video to False and give the image path under path\n",
    "#TODO: Set the path to the video file or image file\n",
    "use_video = True\n",
    "path = \"\"\n",
    "\n",
    "#TODO: Set the task name here -- this will be used to save the output\n",
    "task_name = \"curr_task\"\n",
    "\n",
    "img = None\n",
    "if use_video:\n",
    "    cap = cv2.VideoCapture(path)\n",
    "    while(cap.isOpened()):\n",
    "        ret, frame = cap.read()\n",
    "        img = frame.copy()\n",
    "        break\n",
    "else:\n",
    "    img = cv2.imread(path)\n",
    "\n",
    "# We flip here because CV2 reads in as BGR\n",
    "img = img[:,:,::-1]\n",
    "\n",
    "#TODO: If its hard to see the image, you can increase the size_multiplier, this won't affect the selected coordinates\n",
    "size_multiplier = 1\n",
    "\n",
    "coordinates_path = f\"../../coordinates\""
   ]
  },
  {
   "cell_type": "code",
   "execution_count": 49,
   "metadata": {},
   "outputs": [],
   "source": [
    "%gui asyncio\n",
    "\n",
    "import os\n",
    "from PIL import Image\n",
    "\n",
    "import numpy as np\n",
    "from IPython.display import display, Javascript\n",
    "import ipywidgets as widgets\n",
    "from ipycanvas import Canvas, hold_canvas\n",
    "import pickle\n",
    "\n",
    "import io\n",
    "import asyncio\n",
    "import logging\n",
    "\n",
    "# Define an async function to wait for button click\n",
    "async def wait_for_click(button):\n",
    "    # Create a future object\n",
    "    future = asyncio.Future()\n",
    "    # Define the click event handler\n",
    "    def on_button_clicked(b):\n",
    "        future.set_result(None)\n",
    "    # Attach the event handler to the button\n",
    "    button.on_click(on_button_clicked)\n",
    "    # Wait until the future is set\n",
    "    await future\n",
    "\n",
    "class Points():\n",
    "    def __init__(self, env_name, img, coordinates_path, size_multiplier=1):\n",
    "        logging.getLogger().setLevel(logging.DEBUG)\n",
    "        logging.info(\"Starting the Points class\")\n",
    "        self.img = img\n",
    "        self.size_multiplier = size_multiplier\n",
    "        self.coordinates_path = coordinates_path\n",
    "        self.env_name = env_name\n",
    "\n",
    "        # Save the image to a bytes buffer\n",
    "        image = Image.fromarray(self.img)\n",
    "        size = img.shape\n",
    "        image = image.resize((size[1] * self.size_multiplier, size[0] * self.size_multiplier))\n",
    "        buffer = io.BytesIO()\n",
    "        image.save(buffer, format='PNG')\n",
    "        buffer.seek(0)\n",
    "\n",
    "        # Create an IPyWidgets Image widget\n",
    "        self.canvas = Canvas(width=size[1] * self.size_multiplier, height=size[0] * self.size_multiplier)\n",
    "        # Define the size of each cell\n",
    "\n",
    "        self.canvas.put_image_data(np.array(image), 0, 0)\n",
    "\n",
    "        # Display coordinates\n",
    "        coords_label = widgets.Label(value=\"Click on the image to select the coordinates\")\n",
    "\n",
    "        # Define the click event handler\n",
    "        self.coords = []\n",
    "        def on_click(x, y):\n",
    "            coords_label.value = f\"Coordinates: ({x}, {y})\"\n",
    "            self.coords.append((0, x, y))\n",
    "\n",
    "            with hold_canvas(self.canvas):\n",
    "                self.canvas.put_image_data(np.array(image), 0, 0)  # Redraw the original image\n",
    "\n",
    "                self.canvas.fill_style = 'red'\n",
    "                for coord in self.coords:\n",
    "                    x, y = coord[1] // self.size_multiplier, coord[2] // self.size_multiplier\n",
    "                    self.canvas.fill_circle(x, y, 5)\n",
    "\n",
    "        # Connect the click event to the handler\n",
    "        self.canvas.on_mouse_down(on_click)\n",
    "\n",
    "        self.button = widgets.Button(description=\"Save Images\")\n",
    "\n",
    "        # Display the widgets\n",
    "        self.vbox = widgets.VBox([self.canvas, coords_label, self.button])\n",
    "\n",
    "        # # Display the widget\n",
    "        display(self.vbox)\n",
    "\n",
    "    def on_done(self):\n",
    "        logging.info(\"saving\")\n",
    "        with open(self.coordinates_path + \"/coords/\" + self.env_name + \".pkl\", 'wb') as f:\n",
    "            try:\n",
    "                pickle.dump(self.coords, f)\n",
    "            except Exception as e:\n",
    "                logging.info(e)\n",
    "        with open(self.coordinates_path + \"/images/\" + self.env_name + \".png\", 'wb') as f:\n",
    "            try:\n",
    "                image = Image.fromarray(self.img)\n",
    "                image.save(f)\n",
    "            except Exception as e:\n",
    "                logging.info(e)\n",
    "        logging.info(\"saved\")"
   ]
  },
  {
   "cell_type": "code",
   "execution_count": 50,
   "metadata": {},
   "outputs": [
    {
     "data": {
      "text/plain": [
       "<Task pending name='Task-21' coro=<f() running at /tmp/ipykernel_2605232/3187731821.py:1>>"
      ]
     },
     "execution_count": 50,
     "metadata": {},
     "output_type": "execute_result"
    },
    {
     "name": "stderr",
     "output_type": "stream",
     "text": [
      "INFO:root:Starting the Points class\n"
     ]
    },
    {
     "data": {
      "application/vnd.jupyter.widget-view+json": {
       "model_id": "09c80272ffca47998be3c72bf35fdc25",
       "version_major": 2,
       "version_minor": 0
      },
      "text/plain": [
       "VBox(children=(Canvas(height=480, width=640), Label(value='Click on the image to select the coordinates'), But…"
      ]
     },
     "metadata": {},
     "output_type": "display_data"
    },
    {
     "name": "stderr",
     "output_type": "stream",
     "text": [
      "DEBUG:Comm:handle_msg[405f8c52770f434f80048e2e99b03133]({'header': {'date': datetime.datetime(2024, 10, 8, 20, 28, 29, 741000, tzinfo=tzutc()), 'msg_id': 'f04c097d-4dec-4f9e-9fcb-134510e3f7bf', 'msg_type': 'comm_msg', 'session': '28950468-58ca-494e-b47f-fbd55678ef50', 'username': '18153ef9-50e0-4d4b-ad84-32d9963a420e', 'version': '5.2'}, 'msg_id': 'f04c097d-4dec-4f9e-9fcb-134510e3f7bf', 'msg_type': 'comm_msg', 'parent_header': {}, 'metadata': {}, 'content': {'comm_id': '405f8c52770f434f80048e2e99b03133', 'data': {'method': 'custom', 'content': {'event': 'client_ready'}}}, 'buffers': []})\n",
      "DEBUG:Comm:handle_msg[405f8c52770f434f80048e2e99b03133]({'header': {'date': datetime.datetime(2024, 10, 8, 20, 28, 32, 220000, tzinfo=tzutc()), 'msg_id': 'e379e97f-1526-4a8d-bc7f-1e481452416c', 'msg_type': 'comm_msg', 'session': '28950468-58ca-494e-b47f-fbd55678ef50', 'username': '18153ef9-50e0-4d4b-ad84-32d9963a420e', 'version': '5.2'}, 'msg_id': 'e379e97f-1526-4a8d-bc7f-1e481452416c', 'msg_type': 'comm_msg', 'parent_header': {}, 'metadata': {}, 'content': {'comm_id': '405f8c52770f434f80048e2e99b03133', 'data': {'method': 'custom', 'content': {'event': 'mouse_move', 'x': 10.91481514488044, 'y': 330.40907091540004}}}, 'buffers': []})\n",
      "DEBUG:Comm:handle_msg[405f8c52770f434f80048e2e99b03133]({'header': {'date': datetime.datetime(2024, 10, 8, 20, 28, 32, 236000, tzinfo=tzutc()), 'msg_id': '75b0f43c-ccca-4d9d-81ac-5164c3f33c77', 'msg_type': 'comm_msg', 'session': '28950468-58ca-494e-b47f-fbd55678ef50', 'username': '18153ef9-50e0-4d4b-ad84-32d9963a420e', 'version': '5.2'}, 'msg_id': '75b0f43c-ccca-4d9d-81ac-5164c3f33c77', 'msg_type': 'comm_msg', 'parent_header': {}, 'metadata': {}, 'content': {'comm_id': '405f8c52770f434f80048e2e99b03133', 'data': {'method': 'custom', 'content': {'event': 'mouse_move', 'x': 64.3644062457546, 'y': 308.1884560871903}}}, 'buffers': []})\n",
      "DEBUG:Comm:handle_msg[405f8c52770f434f80048e2e99b03133]({'header': {'date': datetime.datetime(2024, 10, 8, 20, 28, 32, 252000, tzinfo=tzutc()), 'msg_id': 'cb686074-4e8f-4de4-8265-5417e3abc820', 'msg_type': 'comm_msg', 'session': '28950468-58ca-494e-b47f-fbd55678ef50', 'username': '18153ef9-50e0-4d4b-ad84-32d9963a420e', 'version': '5.2'}, 'msg_id': 'cb686074-4e8f-4de4-8265-5417e3abc820', 'msg_type': 'comm_msg', 'parent_header': {}, 'metadata': {}, 'content': {'comm_id': '405f8c52770f434f80048e2e99b03133', 'data': {'method': 'custom', 'content': {'event': 'mouse_move', 'x': 135.2301562446664, 'y': 280.56282684130787}}}, 'buffers': []})\n",
      "DEBUG:Comm:handle_msg[405f8c52770f434f80048e2e99b03133]({'header': {'date': datetime.datetime(2024, 10, 8, 20, 28, 32, 269000, tzinfo=tzutc()), 'msg_id': '6bd85e99-a87d-494a-afb3-802795ec948e', 'msg_type': 'comm_msg', 'session': '28950468-58ca-494e-b47f-fbd55678ef50', 'username': '18153ef9-50e0-4d4b-ad84-32d9963a420e', 'version': '5.2'}, 'msg_id': '6bd85e99-a87d-494a-afb3-802795ec948e', 'msg_type': 'comm_msg', 'parent_header': {}, 'metadata': {}, 'content': {'comm_id': '405f8c52770f434f80048e2e99b03133', 'data': {'method': 'custom', 'content': {'event': 'mouse_move', 'x': 198.2886625996303, 'y': 260.14388348565564}}}, 'buffers': []})\n",
      "DEBUG:Comm:handle_msg[405f8c52770f434f80048e2e99b03133]({'header': {'date': datetime.datetime(2024, 10, 8, 20, 28, 32, 285000, tzinfo=tzutc()), 'msg_id': '12531aeb-0d15-4a7c-abb7-1cecfd5acc64', 'msg_type': 'comm_msg', 'session': '28950468-58ca-494e-b47f-fbd55678ef50', 'username': '18153ef9-50e0-4d4b-ad84-32d9963a420e', 'version': '5.2'}, 'msg_id': '12531aeb-0d15-4a7c-abb7-1cecfd5acc64', 'msg_type': 'comm_msg', 'parent_header': {}, 'metadata': {}, 'content': {'comm_id': '405f8c52770f434f80048e2e99b03133', 'data': {'method': 'custom', 'content': {'event': 'mouse_move', 'x': 275.76054183572876, 'y': 236.12159718488832}}}, 'buffers': []})\n",
      "DEBUG:Comm:handle_msg[405f8c52770f434f80048e2e99b03133]({'header': {'date': datetime.datetime(2024, 10, 8, 20, 28, 32, 303000, tzinfo=tzutc()), 'msg_id': '155282c6-ab28-4a3f-824e-1cdda5924e73', 'msg_type': 'comm_msg', 'session': '28950468-58ca-494e-b47f-fbd55678ef50', 'username': '18153ef9-50e0-4d4b-ad84-32d9963a420e', 'version': '5.2'}, 'msg_id': '155282c6-ab28-4a3f-824e-1cdda5924e73', 'msg_type': 'comm_msg', 'parent_header': {}, 'metadata': {}, 'content': {'comm_id': '405f8c52770f434f80048e2e99b03133', 'data': {'method': 'custom', 'content': {'event': 'mouse_move', 'x': 305.78840200475923, 'y': 225.31156834954302}}}, 'buffers': []})\n",
      "DEBUG:Comm:handle_msg[405f8c52770f434f80048e2e99b03133]({'header': {'date': datetime.datetime(2024, 10, 8, 20, 28, 32, 318000, tzinfo=tzutc()), 'msg_id': 'a381435a-7fcb-456b-bfaa-0052c21ab291', 'msg_type': 'comm_msg', 'session': '28950468-58ca-494e-b47f-fbd55678ef50', 'username': '18153ef9-50e0-4d4b-ad84-32d9963a420e', 'version': '5.2'}, 'msg_id': 'a381435a-7fcb-456b-bfaa-0052c21ab291', 'msg_type': 'comm_msg', 'parent_header': {}, 'metadata': {}, 'content': {'comm_id': '405f8c52770f434f80048e2e99b03133', 'data': {'method': 'custom', 'content': {'event': 'mouse_move', 'x': 331.01180454674477, 'y': 215.10209667171694}}}, 'buffers': []})\n",
      "DEBUG:Comm:handle_msg[405f8c52770f434f80048e2e99b03133]({'header': {'date': datetime.datetime(2024, 10, 8, 20, 28, 32, 335000, tzinfo=tzutc()), 'msg_id': '8b254676-3880-42e7-a637-082f78949532', 'msg_type': 'comm_msg', 'session': '28950468-58ca-494e-b47f-fbd55678ef50', 'username': '18153ef9-50e0-4d4b-ad84-32d9963a420e', 'version': '5.2'}, 'msg_id': '8b254676-3880-42e7-a637-082f78949532', 'msg_type': 'comm_msg', 'parent_header': {}, 'metadata': {}, 'content': {'comm_id': '405f8c52770f434f80048e2e99b03133', 'data': {'method': 'custom', 'content': {'event': 'mouse_move', 'x': 344.2240630211181, 'y': 208.4959679390059}}}, 'buffers': []})\n",
      "DEBUG:Comm:handle_msg[405f8c52770f434f80048e2e99b03133]({'header': {'date': datetime.datetime(2024, 10, 8, 20, 28, 32, 352000, tzinfo=tzutc()), 'msg_id': 'bb691609-67b8-44aa-ac99-9af51462bbc3', 'msg_type': 'comm_msg', 'session': '28950468-58ca-494e-b47f-fbd55678ef50', 'username': '18153ef9-50e0-4d4b-ad84-32d9963a420e', 'version': '5.2'}, 'msg_id': 'bb691609-67b8-44aa-ac99-9af51462bbc3', 'msg_type': 'comm_msg', 'parent_header': {}, 'metadata': {}, 'content': {'comm_id': '405f8c52770f434f80048e2e99b03133', 'data': {'method': 'custom', 'content': {'event': 'mouse_move', 'x': 351.4307494616855, 'y': 203.69151067885244}}}, 'buffers': []})\n",
      "DEBUG:Comm:handle_msg[405f8c52770f434f80048e2e99b03133]({'header': {'date': datetime.datetime(2024, 10, 8, 20, 28, 32, 370000, tzinfo=tzutc()), 'msg_id': 'c1cea033-c3e9-48d9-a4b8-3c7b66c7ff62', 'msg_type': 'comm_msg', 'session': '28950468-58ca-494e-b47f-fbd55678ef50', 'username': '18153ef9-50e0-4d4b-ad84-32d9963a420e', 'version': '5.2'}, 'msg_id': 'c1cea033-c3e9-48d9-a4b8-3c7b66c7ff62', 'msg_type': 'comm_msg', 'parent_header': {}, 'metadata': {}, 'content': {'comm_id': '405f8c52770f434f80048e2e99b03133', 'data': {'method': 'custom', 'content': {'event': 'mouse_move', 'x': 355.6346498853497, 'y': 200.08816773373735}}}, 'buffers': []})\n",
      "DEBUG:Comm:handle_msg[405f8c52770f434f80048e2e99b03133]({'header': {'date': datetime.datetime(2024, 10, 8, 20, 28, 32, 385000, tzinfo=tzutc()), 'msg_id': '756b958a-7e64-4775-9756-8586b0743627', 'msg_type': 'comm_msg', 'session': '28950468-58ca-494e-b47f-fbd55678ef50', 'username': '18153ef9-50e0-4d4b-ad84-32d9963a420e', 'version': '5.2'}, 'msg_id': '756b958a-7e64-4775-9756-8586b0743627', 'msg_type': 'comm_msg', 'parent_header': {}, 'metadata': {}, 'content': {'comm_id': '405f8c52770f434f80048e2e99b03133', 'data': {'method': 'custom', 'content': {'event': 'mouse_move', 'x': 357.43632149549154, 'y': 195.28371047358388}}}, 'buffers': []})\n",
      "DEBUG:Comm:handle_msg[405f8c52770f434f80048e2e99b03133]({'header': {'date': datetime.datetime(2024, 10, 8, 20, 28, 32, 405000, tzinfo=tzutc()), 'msg_id': 'dd49c079-00f9-4613-b13b-09b91c3fede9', 'msg_type': 'comm_msg', 'session': '28950468-58ca-494e-b47f-fbd55678ef50', 'username': '18153ef9-50e0-4d4b-ad84-32d9963a420e', 'version': '5.2'}, 'msg_id': 'dd49c079-00f9-4613-b13b-09b91c3fede9', 'msg_type': 'comm_msg', 'parent_header': {}, 'metadata': {}, 'content': {'comm_id': '405f8c52770f434f80048e2e99b03133', 'data': {'method': 'custom', 'content': {'event': 'mouse_move', 'x': 358.6374359022528, 'y': 186.87591026831532}}}, 'buffers': []})\n",
      "DEBUG:Comm:handle_msg[405f8c52770f434f80048e2e99b03133]({'header': {'date': datetime.datetime(2024, 10, 8, 20, 28, 32, 423000, tzinfo=tzutc()), 'msg_id': '332eee6c-9b92-4cd6-b222-490a8d52ac7f', 'msg_type': 'comm_msg', 'session': '28950468-58ca-494e-b47f-fbd55678ef50', 'username': '18153ef9-50e0-4d4b-ad84-32d9963a420e', 'version': '5.2'}, 'msg_id': '332eee6c-9b92-4cd6-b222-490a8d52ac7f', 'msg_type': 'comm_msg', 'parent_header': {}, 'metadata': {}, 'content': {'comm_id': '405f8c52770f434f80048e2e99b03133', 'data': {'method': 'custom', 'content': {'event': 'mouse_move', 'x': 358.6374359022528, 'y': 176.66643859048924}}}, 'buffers': []})\n",
      "DEBUG:Comm:handle_msg[405f8c52770f434f80048e2e99b03133]({'header': {'date': datetime.datetime(2024, 10, 8, 20, 28, 32, 424000, tzinfo=tzutc()), 'msg_id': '5831a3ff-86d9-4909-bdec-e6cca1b7a458', 'msg_type': 'comm_msg', 'session': '28950468-58ca-494e-b47f-fbd55678ef50', 'username': '18153ef9-50e0-4d4b-ad84-32d9963a420e', 'version': '5.2'}, 'msg_id': '5831a3ff-86d9-4909-bdec-e6cca1b7a458', 'msg_type': 'comm_msg', 'parent_header': {}, 'metadata': {}, 'content': {'comm_id': '405f8c52770f434f80048e2e99b03133', 'data': {'method': 'custom', 'content': {'event': 'mouse_out', 'x': 358.03687869887216, 'y': 171.86198133033577}}}, 'buffers': []})\n",
      "DEBUG:Comm:handle_msg[405f8c52770f434f80048e2e99b03133]({'header': {'date': datetime.datetime(2024, 10, 8, 20, 28, 32, 609000, tzinfo=tzutc()), 'msg_id': '7577888c-3b8d-4b28-b1d3-16cc5bbb9e07', 'msg_type': 'comm_msg', 'session': '28950468-58ca-494e-b47f-fbd55678ef50', 'username': '18153ef9-50e0-4d4b-ad84-32d9963a420e', 'version': '5.2'}, 'msg_id': '7577888c-3b8d-4b28-b1d3-16cc5bbb9e07', 'msg_type': 'comm_msg', 'parent_header': {}, 'metadata': {}, 'content': {'comm_id': '405f8c52770f434f80048e2e99b03133', 'data': {'method': 'custom', 'content': {'event': 'mouse_move', 'x': 324.4056753095581, 'y': 173.6636528028933}}}, 'buffers': []})\n",
      "DEBUG:Comm:handle_msg[405f8c52770f434f80048e2e99b03133]({'header': {'date': datetime.datetime(2024, 10, 8, 20, 28, 32, 619000, tzinfo=tzutc()), 'msg_id': 'c908660b-561c-4c6c-9252-c0905b633283', 'msg_type': 'comm_msg', 'session': '28950468-58ca-494e-b47f-fbd55678ef50', 'username': '18153ef9-50e0-4d4b-ad84-32d9963a420e', 'version': '5.2'}, 'msg_id': 'c908660b-561c-4c6c-9252-c0905b633283', 'msg_type': 'comm_msg', 'parent_header': {}, 'metadata': {}, 'content': {'comm_id': '405f8c52770f434f80048e2e99b03133', 'data': {'method': 'custom', 'content': {'event': 'mouse_move', 'x': 323.20456090279686, 'y': 174.86476711793168}}}, 'buffers': []})\n",
      "DEBUG:Comm:handle_msg[405f8c52770f434f80048e2e99b03133]({'header': {'date': datetime.datetime(2024, 10, 8, 20, 28, 32, 636000, tzinfo=tzutc()), 'msg_id': 'e0a04afc-63aa-45ff-98ef-ac4186917ec5', 'msg_type': 'comm_msg', 'session': '28950468-58ca-494e-b47f-fbd55678ef50', 'username': '18153ef9-50e0-4d4b-ad84-32d9963a420e', 'version': '5.2'}, 'msg_id': 'e0a04afc-63aa-45ff-98ef-ac4186917ec5', 'msg_type': 'comm_msg', 'parent_header': {}, 'metadata': {}, 'content': {'comm_id': '405f8c52770f434f80048e2e99b03133', 'data': {'method': 'custom', 'content': {'event': 'mouse_move', 'x': 319.6012176825132, 'y': 177.2669957480084}}}, 'buffers': []})\n",
      "DEBUG:Comm:handle_msg[405f8c52770f434f80048e2e99b03133]({'header': {'date': datetime.datetime(2024, 10, 8, 20, 28, 32, 652000, tzinfo=tzutc()), 'msg_id': '49adb97a-83ec-4b7e-a2d4-312190553765', 'msg_type': 'comm_msg', 'session': '28950468-58ca-494e-b47f-fbd55678ef50', 'username': '18153ef9-50e0-4d4b-ad84-32d9963a420e', 'version': '5.2'}, 'msg_id': '49adb97a-83ec-4b7e-a2d4-312190553765', 'msg_type': 'comm_msg', 'parent_header': {}, 'metadata': {}, 'content': {'comm_id': '405f8c52770f434f80048e2e99b03133', 'data': {'method': 'custom', 'content': {'event': 'mouse_move', 'x': 317.79954607237136, 'y': 178.46811006304677}}}, 'buffers': []})\n",
      "DEBUG:Comm:handle_msg[405f8c52770f434f80048e2e99b03133]({'header': {'date': datetime.datetime(2024, 10, 8, 20, 28, 32, 669000, tzinfo=tzutc()), 'msg_id': '3bcd0bf5-ef73-4b06-9c6a-e8ef8205f8f3', 'msg_type': 'comm_msg', 'session': '28950468-58ca-494e-b47f-fbd55678ef50', 'username': '18153ef9-50e0-4d4b-ad84-32d9963a420e', 'version': '5.2'}, 'msg_id': '3bcd0bf5-ef73-4b06-9c6a-e8ef8205f8f3', 'msg_type': 'comm_msg', 'parent_header': {}, 'metadata': {}, 'content': {'comm_id': '405f8c52770f434f80048e2e99b03133', 'data': {'method': 'custom', 'content': {'event': 'mouse_move', 'x': 316.5984316656102, 'y': 179.06866722056594}}}, 'buffers': []})\n",
      "DEBUG:Comm:handle_msg[405f8c52770f434f80048e2e99b03133]({'header': {'date': datetime.datetime(2024, 10, 8, 20, 28, 32, 686000, tzinfo=tzutc()), 'msg_id': 'b6d2569e-27d9-4539-91e5-3f53954a1ba1', 'msg_type': 'comm_msg', 'session': '28950468-58ca-494e-b47f-fbd55678ef50', 'username': '18153ef9-50e0-4d4b-ad84-32d9963a420e', 'version': '5.2'}, 'msg_id': 'b6d2569e-27d9-4539-91e5-3f53954a1ba1', 'msg_type': 'comm_msg', 'parent_header': {}, 'metadata': {}, 'content': {'comm_id': '405f8c52770f434f80048e2e99b03133', 'data': {'method': 'custom', 'content': {'event': 'mouse_move', 'x': 315.99787446222956, 'y': 179.66922437808515}}}, 'buffers': []})\n",
      "DEBUG:Comm:handle_msg[405f8c52770f434f80048e2e99b03133]({'header': {'date': datetime.datetime(2024, 10, 8, 20, 28, 32, 702000, tzinfo=tzutc()), 'msg_id': '033414a1-c70d-4fa2-8959-226031621028', 'msg_type': 'comm_msg', 'session': '28950468-58ca-494e-b47f-fbd55678ef50', 'username': '18153ef9-50e0-4d4b-ad84-32d9963a420e', 'version': '5.2'}, 'msg_id': '033414a1-c70d-4fa2-8959-226031621028', 'msg_type': 'comm_msg', 'parent_header': {}, 'metadata': {}, 'content': {'comm_id': '405f8c52770f434f80048e2e99b03133', 'data': {'method': 'custom', 'content': {'event': 'mouse_move', 'x': 315.39731725884894, 'y': 179.66922437808515}}}, 'buffers': []})\n",
      "DEBUG:Comm:handle_msg[405f8c52770f434f80048e2e99b03133]({'header': {'date': datetime.datetime(2024, 10, 8, 20, 28, 32, 719000, tzinfo=tzutc()), 'msg_id': '95811e95-8bdb-47a2-8f5e-86279845e8be', 'msg_type': 'comm_msg', 'session': '28950468-58ca-494e-b47f-fbd55678ef50', 'username': '18153ef9-50e0-4d4b-ad84-32d9963a420e', 'version': '5.2'}, 'msg_id': '95811e95-8bdb-47a2-8f5e-86279845e8be', 'msg_type': 'comm_msg', 'parent_header': {}, 'metadata': {}, 'content': {'comm_id': '405f8c52770f434f80048e2e99b03133', 'data': {'method': 'custom', 'content': {'event': 'mouse_move', 'x': 315.39731725884894, 'y': 179.66922437808515}}}, 'buffers': []})\n",
      "DEBUG:Comm:handle_msg[405f8c52770f434f80048e2e99b03133]({'header': {'date': datetime.datetime(2024, 10, 8, 20, 28, 32, 735000, tzinfo=tzutc()), 'msg_id': '53da0646-71b2-4b38-8e58-786959c054a7', 'msg_type': 'comm_msg', 'session': '28950468-58ca-494e-b47f-fbd55678ef50', 'username': '18153ef9-50e0-4d4b-ad84-32d9963a420e', 'version': '5.2'}, 'msg_id': '53da0646-71b2-4b38-8e58-786959c054a7', 'msg_type': 'comm_msg', 'parent_header': {}, 'metadata': {}, 'content': {'comm_id': '405f8c52770f434f80048e2e99b03133', 'data': {'method': 'custom', 'content': {'event': 'mouse_move', 'x': 314.7967600554683, 'y': 179.66922437808515}}}, 'buffers': []})\n",
      "DEBUG:Comm:handle_msg[405f8c52770f434f80048e2e99b03133]({'header': {'date': datetime.datetime(2024, 10, 8, 20, 28, 32, 752000, tzinfo=tzutc()), 'msg_id': '39d668a0-95ad-4b26-9d71-57a38e28894d', 'msg_type': 'comm_msg', 'session': '28950468-58ca-494e-b47f-fbd55678ef50', 'username': '18153ef9-50e0-4d4b-ad84-32d9963a420e', 'version': '5.2'}, 'msg_id': '39d668a0-95ad-4b26-9d71-57a38e28894d', 'msg_type': 'comm_msg', 'parent_header': {}, 'metadata': {}, 'content': {'comm_id': '405f8c52770f434f80048e2e99b03133', 'data': {'method': 'custom', 'content': {'event': 'mouse_move', 'x': 312.99508844532653, 'y': 179.66922437808515}}}, 'buffers': []})\n",
      "DEBUG:Comm:handle_msg[405f8c52770f434f80048e2e99b03133]({'header': {'date': datetime.datetime(2024, 10, 8, 20, 28, 32, 769000, tzinfo=tzutc()), 'msg_id': 'c3bcaaa0-dd35-41af-b2e0-fbd0cc6c82b3', 'msg_type': 'comm_msg', 'session': '28950468-58ca-494e-b47f-fbd55678ef50', 'username': '18153ef9-50e0-4d4b-ad84-32d9963a420e', 'version': '5.2'}, 'msg_id': 'c3bcaaa0-dd35-41af-b2e0-fbd0cc6c82b3', 'msg_type': 'comm_msg', 'parent_header': {}, 'metadata': {}, 'content': {'comm_id': '405f8c52770f434f80048e2e99b03133', 'data': {'method': 'custom', 'content': {'event': 'mouse_move', 'x': 311.1934168351847, 'y': 180.26978153560432}}}, 'buffers': []})\n",
      "DEBUG:Comm:handle_msg[405f8c52770f434f80048e2e99b03133]({'header': {'date': datetime.datetime(2024, 10, 8, 20, 28, 32, 789000, tzinfo=tzutc()), 'msg_id': 'bd2538e0-7e99-42a3-9f00-b3a03c3c9c71', 'msg_type': 'comm_msg', 'session': '28950468-58ca-494e-b47f-fbd55678ef50', 'username': '18153ef9-50e0-4d4b-ad84-32d9963a420e', 'version': '5.2'}, 'msg_id': 'bd2538e0-7e99-42a3-9f00-b3a03c3c9c71', 'msg_type': 'comm_msg', 'parent_header': {}, 'metadata': {}, 'content': {'comm_id': '405f8c52770f434f80048e2e99b03133', 'data': {'method': 'custom', 'content': {'event': 'mouse_move', 'x': 309.3917452250429, 'y': 180.26978153560432}}}, 'buffers': []})\n",
      "DEBUG:Comm:handle_msg[405f8c52770f434f80048e2e99b03133]({'header': {'date': datetime.datetime(2024, 10, 8, 20, 28, 32, 803000, tzinfo=tzutc()), 'msg_id': '156d6b89-277d-4f00-8265-228ad6192230', 'msg_type': 'comm_msg', 'session': '28950468-58ca-494e-b47f-fbd55678ef50', 'username': '18153ef9-50e0-4d4b-ad84-32d9963a420e', 'version': '5.2'}, 'msg_id': '156d6b89-277d-4f00-8265-228ad6192230', 'msg_type': 'comm_msg', 'parent_header': {}, 'metadata': {}, 'content': {'comm_id': '405f8c52770f434f80048e2e99b03133', 'data': {'method': 'custom', 'content': {'event': 'mouse_move', 'x': 308.79118802166226, 'y': 180.26978153560432}}}, 'buffers': []})\n",
      "DEBUG:Comm:handle_msg[405f8c52770f434f80048e2e99b03133]({'header': {'date': datetime.datetime(2024, 10, 8, 20, 28, 32, 819000, tzinfo=tzutc()), 'msg_id': '4bb48ebe-0dc1-437f-bd25-09a36d1ed913', 'msg_type': 'comm_msg', 'session': '28950468-58ca-494e-b47f-fbd55678ef50', 'username': '18153ef9-50e0-4d4b-ad84-32d9963a420e', 'version': '5.2'}, 'msg_id': '4bb48ebe-0dc1-437f-bd25-09a36d1ed913', 'msg_type': 'comm_msg', 'parent_header': {}, 'metadata': {}, 'content': {'comm_id': '405f8c52770f434f80048e2e99b03133', 'data': {'method': 'custom', 'content': {'event': 'mouse_move', 'x': 306.3889592081398, 'y': 180.26978153560432}}}, 'buffers': []})\n",
      "DEBUG:Comm:handle_msg[405f8c52770f434f80048e2e99b03133]({'header': {'date': datetime.datetime(2024, 10, 8, 20, 28, 32, 839000, tzinfo=tzutc()), 'msg_id': '462fbabd-94eb-4905-ae81-3b5e732e8a3b', 'msg_type': 'comm_msg', 'session': '28950468-58ca-494e-b47f-fbd55678ef50', 'username': '18153ef9-50e0-4d4b-ad84-32d9963a420e', 'version': '5.2'}, 'msg_id': '462fbabd-94eb-4905-ae81-3b5e732e8a3b', 'msg_type': 'comm_msg', 'parent_header': {}, 'metadata': {}, 'content': {'comm_id': '405f8c52770f434f80048e2e99b03133', 'data': {'method': 'custom', 'content': {'event': 'mouse_move', 'x': 304.587287597998, 'y': 180.26978153560432}}}, 'buffers': []})\n",
      "DEBUG:Comm:handle_msg[405f8c52770f434f80048e2e99b03133]({'header': {'date': datetime.datetime(2024, 10, 8, 20, 28, 32, 855000, tzinfo=tzutc()), 'msg_id': 'ea6e991e-bba4-4680-8a95-d447a24b8891', 'msg_type': 'comm_msg', 'session': '28950468-58ca-494e-b47f-fbd55678ef50', 'username': '18153ef9-50e0-4d4b-ad84-32d9963a420e', 'version': '5.2'}, 'msg_id': 'ea6e991e-bba4-4680-8a95-d447a24b8891', 'msg_type': 'comm_msg', 'parent_header': {}, 'metadata': {}, 'content': {'comm_id': '405f8c52770f434f80048e2e99b03133', 'data': {'method': 'custom', 'content': {'event': 'mouse_move', 'x': 302.78561598785615, 'y': 179.66922437808515}}}, 'buffers': []})\n",
      "DEBUG:Comm:handle_msg[405f8c52770f434f80048e2e99b03133]({'header': {'date': datetime.datetime(2024, 10, 8, 20, 28, 32, 870000, tzinfo=tzutc()), 'msg_id': '6e991998-172d-40db-8c2c-3c2fe33c1b7f', 'msg_type': 'comm_msg', 'session': '28950468-58ca-494e-b47f-fbd55678ef50', 'username': '18153ef9-50e0-4d4b-ad84-32d9963a420e', 'version': '5.2'}, 'msg_id': '6e991998-172d-40db-8c2c-3c2fe33c1b7f', 'msg_type': 'comm_msg', 'parent_header': {}, 'metadata': {}, 'content': {'comm_id': '405f8c52770f434f80048e2e99b03133', 'data': {'method': 'custom', 'content': {'event': 'mouse_move', 'x': 300.38338717433373, 'y': 179.06866722056594}}}, 'buffers': []})\n",
      "DEBUG:Comm:handle_msg[405f8c52770f434f80048e2e99b03133]({'header': {'date': datetime.datetime(2024, 10, 8, 20, 28, 32, 888000, tzinfo=tzutc()), 'msg_id': '2cfb9daf-9f5a-4c75-b8ee-76b005f6ccc2', 'msg_type': 'comm_msg', 'session': '28950468-58ca-494e-b47f-fbd55678ef50', 'username': '18153ef9-50e0-4d4b-ad84-32d9963a420e', 'version': '5.2'}, 'msg_id': '2cfb9daf-9f5a-4c75-b8ee-76b005f6ccc2', 'msg_type': 'comm_msg', 'parent_header': {}, 'metadata': {}, 'content': {'comm_id': '405f8c52770f434f80048e2e99b03133', 'data': {'method': 'custom', 'content': {'event': 'mouse_move', 'x': 299.1822727675725, 'y': 179.06866722056594}}}, 'buffers': []})\n",
      "DEBUG:Comm:handle_msg[405f8c52770f434f80048e2e99b03133]({'header': {'date': datetime.datetime(2024, 10, 8, 20, 28, 32, 903000, tzinfo=tzutc()), 'msg_id': '6ead05a7-f9c2-4c17-8f6d-e2f5e47488d3', 'msg_type': 'comm_msg', 'session': '28950468-58ca-494e-b47f-fbd55678ef50', 'username': '18153ef9-50e0-4d4b-ad84-32d9963a420e', 'version': '5.2'}, 'msg_id': '6ead05a7-f9c2-4c17-8f6d-e2f5e47488d3', 'msg_type': 'comm_msg', 'parent_header': {}, 'metadata': {}, 'content': {'comm_id': '405f8c52770f434f80048e2e99b03133', 'data': {'method': 'custom', 'content': {'event': 'mouse_move', 'x': 297.9811583608113, 'y': 179.06866722056594}}}, 'buffers': []})\n",
      "DEBUG:Comm:handle_msg[405f8c52770f434f80048e2e99b03133]({'header': {'date': datetime.datetime(2024, 10, 8, 20, 28, 32, 919000, tzinfo=tzutc()), 'msg_id': '33141d0a-bf3a-438d-b7cf-b994e894849e', 'msg_type': 'comm_msg', 'session': '28950468-58ca-494e-b47f-fbd55678ef50', 'username': '18153ef9-50e0-4d4b-ad84-32d9963a420e', 'version': '5.2'}, 'msg_id': '33141d0a-bf3a-438d-b7cf-b994e894849e', 'msg_type': 'comm_msg', 'parent_header': {}, 'metadata': {}, 'content': {'comm_id': '405f8c52770f434f80048e2e99b03133', 'data': {'method': 'custom', 'content': {'event': 'mouse_move', 'x': 297.3806011574307, 'y': 179.06866722056594}}}, 'buffers': []})\n",
      "DEBUG:Comm:handle_msg[405f8c52770f434f80048e2e99b03133]({'header': {'date': datetime.datetime(2024, 10, 8, 20, 28, 32, 937000, tzinfo=tzutc()), 'msg_id': '910e5072-e0d4-4459-a934-b08c2ef2e819', 'msg_type': 'comm_msg', 'session': '28950468-58ca-494e-b47f-fbd55678ef50', 'username': '18153ef9-50e0-4d4b-ad84-32d9963a420e', 'version': '5.2'}, 'msg_id': '910e5072-e0d4-4459-a934-b08c2ef2e819', 'msg_type': 'comm_msg', 'parent_header': {}, 'metadata': {}, 'content': {'comm_id': '405f8c52770f434f80048e2e99b03133', 'data': {'method': 'custom', 'content': {'event': 'mouse_move', 'x': 296.7800439540501, 'y': 179.06866722056594}}}, 'buffers': []})\n",
      "DEBUG:Comm:handle_msg[405f8c52770f434f80048e2e99b03133]({'header': {'date': datetime.datetime(2024, 10, 8, 20, 28, 32, 958000, tzinfo=tzutc()), 'msg_id': '13b269be-0598-4406-90d6-859545d7c201', 'msg_type': 'comm_msg', 'session': '28950468-58ca-494e-b47f-fbd55678ef50', 'username': '18153ef9-50e0-4d4b-ad84-32d9963a420e', 'version': '5.2'}, 'msg_id': '13b269be-0598-4406-90d6-859545d7c201', 'msg_type': 'comm_msg', 'parent_header': {}, 'metadata': {}, 'content': {'comm_id': '405f8c52770f434f80048e2e99b03133', 'data': {'method': 'custom', 'content': {'event': 'mouse_move', 'x': 296.7800439540501, 'y': 179.06866722056594}}}, 'buffers': []})\n",
      "DEBUG:Comm:handle_msg[405f8c52770f434f80048e2e99b03133]({'header': {'date': datetime.datetime(2024, 10, 8, 20, 28, 33, 13000, tzinfo=tzutc()), 'msg_id': '471c36bb-ae71-4cd3-be26-00c6b2dec30b', 'msg_type': 'comm_msg', 'session': '28950468-58ca-494e-b47f-fbd55678ef50', 'username': '18153ef9-50e0-4d4b-ad84-32d9963a420e', 'version': '5.2'}, 'msg_id': '471c36bb-ae71-4cd3-be26-00c6b2dec30b', 'msg_type': 'comm_msg', 'parent_header': {}, 'metadata': {}, 'content': {'comm_id': '405f8c52770f434f80048e2e99b03133', 'data': {'method': 'custom', 'content': {'event': 'mouse_down', 'x': 296.7800439540501, 'y': 179.06866722056594}}}, 'buffers': []})\n",
      "DEBUG:Comm:handle_msg[405f8c52770f434f80048e2e99b03133]({'header': {'date': datetime.datetime(2024, 10, 8, 20, 28, 33, 77000, tzinfo=tzutc()), 'msg_id': '5886d295-f6b8-497d-8d58-8d93e5e45582', 'msg_type': 'comm_msg', 'session': '28950468-58ca-494e-b47f-fbd55678ef50', 'username': '18153ef9-50e0-4d4b-ad84-32d9963a420e', 'version': '5.2'}, 'msg_id': '5886d295-f6b8-497d-8d58-8d93e5e45582', 'msg_type': 'comm_msg', 'parent_header': {}, 'metadata': {}, 'content': {'comm_id': '405f8c52770f434f80048e2e99b03133', 'data': {'method': 'custom', 'content': {'event': 'mouse_up', 'x': 296.7800439540501, 'y': 179.06866722056594}}}, 'buffers': []})\n",
      "DEBUG:Comm:handle_msg[405f8c52770f434f80048e2e99b03133]({'header': {'date': datetime.datetime(2024, 10, 8, 20, 28, 33, 296000, tzinfo=tzutc()), 'msg_id': 'b67bf60b-47b6-462c-8760-56df96c4e48d', 'msg_type': 'comm_msg', 'session': '28950468-58ca-494e-b47f-fbd55678ef50', 'username': '18153ef9-50e0-4d4b-ad84-32d9963a420e', 'version': '5.2'}, 'msg_id': 'b67bf60b-47b6-462c-8760-56df96c4e48d', 'msg_type': 'comm_msg', 'parent_header': {}, 'metadata': {}, 'content': {'comm_id': '405f8c52770f434f80048e2e99b03133', 'data': {'method': 'custom', 'content': {'event': 'mouse_move', 'x': 296.7800439540501, 'y': 179.66922437808515}}}, 'buffers': []})\n",
      "DEBUG:Comm:handle_msg[405f8c52770f434f80048e2e99b03133]({'header': {'date': datetime.datetime(2024, 10, 8, 20, 28, 33, 304000, tzinfo=tzutc()), 'msg_id': 'a5a53fab-f7cc-47ed-958e-b250f7a612f5', 'msg_type': 'comm_msg', 'session': '28950468-58ca-494e-b47f-fbd55678ef50', 'username': '18153ef9-50e0-4d4b-ad84-32d9963a420e', 'version': '5.2'}, 'msg_id': 'a5a53fab-f7cc-47ed-958e-b250f7a612f5', 'msg_type': 'comm_msg', 'parent_header': {}, 'metadata': {}, 'content': {'comm_id': '405f8c52770f434f80048e2e99b03133', 'data': {'method': 'custom', 'content': {'event': 'mouse_move', 'x': 294.97837234390823, 'y': 181.47089585064268}}}, 'buffers': []})\n",
      "DEBUG:Comm:handle_msg[405f8c52770f434f80048e2e99b03133]({'header': {'date': datetime.datetime(2024, 10, 8, 20, 28, 33, 319000, tzinfo=tzutc()), 'msg_id': 'cd55eaa3-a062-48bc-9a12-748d2d4033d8', 'msg_type': 'comm_msg', 'session': '28950468-58ca-494e-b47f-fbd55678ef50', 'username': '18153ef9-50e0-4d4b-ad84-32d9963a420e', 'version': '5.2'}, 'msg_id': 'cd55eaa3-a062-48bc-9a12-748d2d4033d8', 'msg_type': 'comm_msg', 'parent_header': {}, 'metadata': {}, 'content': {'comm_id': '405f8c52770f434f80048e2e99b03133', 'data': {'method': 'custom', 'content': {'event': 'mouse_move', 'x': 282.3666710729155, 'y': 189.87869605591123}}}, 'buffers': []})\n",
      "DEBUG:Comm:handle_msg[405f8c52770f434f80048e2e99b03133]({'header': {'date': datetime.datetime(2024, 10, 8, 20, 28, 33, 337000, tzinfo=tzutc()), 'msg_id': 'd085a190-c78f-476d-8428-8697e8bd8097', 'msg_type': 'comm_msg', 'session': '28950468-58ca-494e-b47f-fbd55678ef50', 'username': '18153ef9-50e0-4d4b-ad84-32d9963a420e', 'version': '5.2'}, 'msg_id': 'd085a190-c78f-476d-8428-8697e8bd8097', 'msg_type': 'comm_msg', 'parent_header': {}, 'metadata': {}, 'content': {'comm_id': '405f8c52770f434f80048e2e99b03133', 'data': {'method': 'custom', 'content': {'event': 'mouse_move', 'x': 247.5343532768402, 'y': 209.09652509652508}}}, 'buffers': []})\n",
      "DEBUG:Comm:handle_msg[405f8c52770f434f80048e2e99b03133]({'header': {'date': datetime.datetime(2024, 10, 8, 20, 28, 33, 352000, tzinfo=tzutc()), 'msg_id': 'c3dc5a42-6277-4a36-a4b3-983b5c55334c', 'msg_type': 'comm_msg', 'session': '28950468-58ca-494e-b47f-fbd55678ef50', 'username': '18153ef9-50e0-4d4b-ad84-32d9963a420e', 'version': '5.2'}, 'msg_id': 'c3dc5a42-6277-4a36-a4b3-983b5c55334c', 'msg_type': 'comm_msg', 'parent_header': {}, 'metadata': {}, 'content': {'comm_id': '405f8c52770f434f80048e2e99b03133', 'data': {'method': 'custom', 'content': {'event': 'mouse_move', 'x': 224.71317954837707, 'y': 220.50711108938958}}}, 'buffers': []})\n",
      "DEBUG:Comm:handle_msg[405f8c52770f434f80048e2e99b03133]({'header': {'date': datetime.datetime(2024, 10, 8, 20, 28, 33, 369000, tzinfo=tzutc()), 'msg_id': '6046cf78-faa8-4c8e-975f-1597884ca019', 'msg_type': 'comm_msg', 'session': '28950468-58ca-494e-b47f-fbd55678ef50', 'username': '18153ef9-50e0-4d4b-ad84-32d9963a420e', 'version': '5.2'}, 'msg_id': '6046cf78-faa8-4c8e-975f-1597884ca019', 'msg_type': 'comm_msg', 'parent_header': {}, 'metadata': {}, 'content': {'comm_id': '405f8c52770f434f80048e2e99b03133', 'data': {'method': 'custom', 'content': {'event': 'mouse_move', 'x': 109.40619649930024, 'y': 272.75558379355846}}}, 'buffers': []})\n",
      "DEBUG:Comm:handle_msg[405f8c52770f434f80048e2e99b03133]({'header': {'date': datetime.datetime(2024, 10, 8, 20, 28, 33, 386000, tzinfo=tzutc()), 'msg_id': 'd7f5a7ec-8ee4-4211-9463-90842f3eee51', 'msg_type': 'comm_msg', 'session': '28950468-58ca-494e-b47f-fbd55678ef50', 'username': '18153ef9-50e0-4d4b-ad84-32d9963a420e', 'version': '5.2'}, 'msg_id': 'd7f5a7ec-8ee4-4211-9463-90842f3eee51', 'msg_type': 'comm_msg', 'parent_header': {}, 'metadata': {}, 'content': {'comm_id': '405f8c52770f434f80048e2e99b03133', 'data': {'method': 'custom', 'content': {'event': 'mouse_move', 'x': 80.57945073703102, 'y': 284.1661697864229}}}, 'buffers': []})\n",
      "DEBUG:Comm:handle_msg[405f8c52770f434f80048e2e99b03133]({'header': {'date': datetime.datetime(2024, 10, 8, 20, 28, 33, 402000, tzinfo=tzutc()), 'msg_id': 'd5c27c19-224c-4896-b145-10cd262b73b1', 'msg_type': 'comm_msg', 'session': '28950468-58ca-494e-b47f-fbd55678ef50', 'username': '18153ef9-50e0-4d4b-ad84-32d9963a420e', 'version': '5.2'}, 'msg_id': 'd5c27c19-224c-4896-b145-10cd262b73b1', 'msg_type': 'comm_msg', 'parent_header': {}, 'metadata': {}, 'content': {'comm_id': '405f8c52770f434f80048e2e99b03133', 'data': {'method': 'custom', 'content': {'event': 'mouse_move', 'x': 25.928745229395652, 'y': 305.7862274571135}}}, 'buffers': []})\n",
      "DEBUG:Comm:handle_msg[405f8c52770f434f80048e2e99b03133]({'header': {'date': datetime.datetime(2024, 10, 8, 20, 28, 33, 423000, tzinfo=tzutc()), 'msg_id': 'fce74705-9f56-4fb1-b7d4-33326dd8230f', 'msg_type': 'comm_msg', 'session': '28950468-58ca-494e-b47f-fbd55678ef50', 'username': '18153ef9-50e0-4d4b-ad84-32d9963a420e', 'version': '5.2'}, 'msg_id': 'fce74705-9f56-4fb1-b7d4-33326dd8230f', 'msg_type': 'comm_msg', 'parent_header': {}, 'metadata': {}, 'content': {'comm_id': '405f8c52770f434f80048e2e99b03133', 'data': {'method': 'custom', 'content': {'event': 'mouse_out', 'x': -5.30022934639599, 'y': 319.59904208005474}}}, 'buffers': []})\n",
      "DEBUG:Comm:handle_msg[405f8c52770f434f80048e2e99b03133]({'header': {'date': datetime.datetime(2024, 10, 8, 20, 28, 33, 920000, tzinfo=tzutc()), 'msg_id': 'f48bdfec-d1af-4f7b-adfa-939a88a1f166', 'msg_type': 'comm_msg', 'session': '28950468-58ca-494e-b47f-fbd55678ef50', 'username': '18153ef9-50e0-4d4b-ad84-32d9963a420e', 'version': '5.2'}, 'msg_id': 'f48bdfec-d1af-4f7b-adfa-939a88a1f166', 'msg_type': 'comm_msg', 'parent_header': {}, 'metadata': {}, 'content': {'comm_id': '405f8c52770f434f80048e2e99b03133', 'data': {'method': 'custom', 'content': {'event': 'mouse_move', 'x': 1.9064570941713117, 'y': 417.48985875568155}}}, 'buffers': []})\n",
      "DEBUG:Comm:handle_msg[405f8c52770f434f80048e2e99b03133]({'header': {'date': datetime.datetime(2024, 10, 8, 20, 28, 33, 937000, tzinfo=tzutc()), 'msg_id': 'a7189bb7-0abc-4b86-9dea-0b0f8151b7b9', 'msg_type': 'comm_msg', 'session': '28950468-58ca-494e-b47f-fbd55678ef50', 'username': '18153ef9-50e0-4d4b-ad84-32d9963a420e', 'version': '5.2'}, 'msg_id': 'a7189bb7-0abc-4b86-9dea-0b0f8151b7b9', 'msg_type': 'comm_msg', 'parent_header': {}, 'metadata': {}, 'content': {'comm_id': '405f8c52770f434f80048e2e99b03133', 'data': {'method': 'custom', 'content': {'event': 'mouse_move', 'x': 4.909243111074354, 'y': 420.49264454327744}}}, 'buffers': []})\n",
      "DEBUG:Comm:handle_msg[405f8c52770f434f80048e2e99b03133]({'header': {'date': datetime.datetime(2024, 10, 8, 20, 28, 33, 953000, tzinfo=tzutc()), 'msg_id': '54eb22d6-15a1-4ba7-9ea2-07278c3644c5', 'msg_type': 'comm_msg', 'session': '28950468-58ca-494e-b47f-fbd55678ef50', 'username': '18153ef9-50e0-4d4b-ad84-32d9963a420e', 'version': '5.2'}, 'msg_id': '54eb22d6-15a1-4ba7-9ea2-07278c3644c5', 'msg_type': 'comm_msg', 'parent_header': {}, 'metadata': {}, 'content': {'comm_id': '405f8c52770f434f80048e2e99b03133', 'data': {'method': 'custom', 'content': {'event': 'mouse_move', 'x': 7.3114719245967885, 'y': 423.4954303308734}}}, 'buffers': []})\n",
      "DEBUG:Comm:handle_msg[405f8c52770f434f80048e2e99b03133]({'header': {'date': datetime.datetime(2024, 10, 8, 20, 28, 33, 969000, tzinfo=tzutc()), 'msg_id': 'e3823fe3-ba2d-4668-88ed-16076f9768c4', 'msg_type': 'comm_msg', 'session': '28950468-58ca-494e-b47f-fbd55678ef50', 'username': '18153ef9-50e0-4d4b-ad84-32d9963a420e', 'version': '5.2'}, 'msg_id': 'e3823fe3-ba2d-4668-88ed-16076f9768c4', 'msg_type': 'comm_msg', 'parent_header': {}, 'metadata': {}, 'content': {'comm_id': '405f8c52770f434f80048e2e99b03133', 'data': {'method': 'custom', 'content': {'event': 'mouse_move', 'x': 8.512586331358005, 'y': 426.49821611846926}}}, 'buffers': []})\n",
      "DEBUG:Comm:handle_msg[405f8c52770f434f80048e2e99b03133]({'header': {'date': datetime.datetime(2024, 10, 8, 20, 28, 33, 985000, tzinfo=tzutc()), 'msg_id': '220af9c1-781a-4db1-bd60-f3fcfc97d42a', 'msg_type': 'comm_msg', 'session': '28950468-58ca-494e-b47f-fbd55678ef50', 'username': '18153ef9-50e0-4d4b-ad84-32d9963a420e', 'version': '5.2'}, 'msg_id': '220af9c1-781a-4db1-bd60-f3fcfc97d42a', 'msg_type': 'comm_msg', 'parent_header': {}, 'metadata': {}, 'content': {'comm_id': '405f8c52770f434f80048e2e99b03133', 'data': {'method': 'custom', 'content': {'event': 'mouse_move', 'x': 10.31425794149983, 'y': 433.1043448511803}}}, 'buffers': []})\n",
      "DEBUG:Comm:handle_msg[405f8c52770f434f80048e2e99b03133]({'header': {'date': datetime.datetime(2024, 10, 8, 20, 28, 34, 2000, tzinfo=tzutc()), 'msg_id': 'b8d76ba7-5056-4ddd-a9a5-f5f152b588af', 'msg_type': 'comm_msg', 'session': '28950468-58ca-494e-b47f-fbd55678ef50', 'username': '18153ef9-50e0-4d4b-ad84-32d9963a420e', 'version': '5.2'}, 'msg_id': 'b8d76ba7-5056-4ddd-a9a5-f5f152b588af', 'msg_type': 'comm_msg', 'parent_header': {}, 'metadata': {}, 'content': {'comm_id': '405f8c52770f434f80048e2e99b03133', 'data': {'method': 'custom', 'content': {'event': 'mouse_move', 'x': 11.515372348261048, 'y': 441.51214505644884}}}, 'buffers': []})\n",
      "DEBUG:Comm:handle_msg[405f8c52770f434f80048e2e99b03133]({'header': {'date': datetime.datetime(2024, 10, 8, 20, 28, 34, 22000, tzinfo=tzutc()), 'msg_id': '06c6d669-efad-4218-b6e4-373bf7e0a95b', 'msg_type': 'comm_msg', 'session': '28950468-58ca-494e-b47f-fbd55678ef50', 'username': '18153ef9-50e0-4d4b-ad84-32d9963a420e', 'version': '5.2'}, 'msg_id': '06c6d669-efad-4218-b6e4-373bf7e0a95b', 'msg_type': 'comm_msg', 'parent_header': {}, 'metadata': {}, 'content': {'comm_id': '405f8c52770f434f80048e2e99b03133', 'data': {'method': 'custom', 'content': {'event': 'mouse_move', 'x': 17.520944382067132, 'y': 459.5288597820243}}}, 'buffers': []})\n",
      "DEBUG:Comm:handle_msg[405f8c52770f434f80048e2e99b03133]({'header': {'date': datetime.datetime(2024, 10, 8, 20, 28, 34, 35000, tzinfo=tzutc()), 'msg_id': 'b3b870e9-a2ca-43df-971f-7df1d17e4e0d', 'msg_type': 'comm_msg', 'session': '28950468-58ca-494e-b47f-fbd55678ef50', 'username': '18153ef9-50e0-4d4b-ad84-32d9963a420e', 'version': '5.2'}, 'msg_id': 'b3b870e9-a2ca-43df-971f-7df1d17e4e0d', 'msg_type': 'comm_msg', 'parent_header': {}, 'metadata': {}, 'content': {'comm_id': '405f8c52770f434f80048e2e99b03133', 'data': {'method': 'custom', 'content': {'event': 'mouse_move', 'x': 20.523730398970176, 'y': 467.9366599872929}}}, 'buffers': []})\n",
      "DEBUG:Comm:handle_msg[405f8c52770f434f80048e2e99b03133]({'header': {'date': datetime.datetime(2024, 10, 8, 20, 28, 34, 56000, tzinfo=tzutc()), 'msg_id': '3eb274b7-b2d3-4302-bda7-1007e5de681f', 'msg_type': 'comm_msg', 'session': '28950468-58ca-494e-b47f-fbd55678ef50', 'username': '18153ef9-50e0-4d4b-ad84-32d9963a420e', 'version': '5.2'}, 'msg_id': '3eb274b7-b2d3-4302-bda7-1007e5de681f', 'msg_type': 'comm_msg', 'parent_header': {}, 'metadata': {}, 'content': {'comm_id': '405f8c52770f434f80048e2e99b03133', 'data': {'method': 'custom', 'content': {'event': 'mouse_move', 'x': 22.925959212492607, 'y': 473.9422315624847}}}, 'buffers': []})\n",
      "DEBUG:Comm:handle_msg[405f8c52770f434f80048e2e99b03133]({'header': {'date': datetime.datetime(2024, 10, 8, 20, 28, 34, 69000, tzinfo=tzutc()), 'msg_id': 'd9266166-5c44-4b9e-9f86-9e0ae02e3338', 'msg_type': 'comm_msg', 'session': '28950468-58ca-494e-b47f-fbd55678ef50', 'username': '18153ef9-50e0-4d4b-ad84-32d9963a420e', 'version': '5.2'}, 'msg_id': 'd9266166-5c44-4b9e-9f86-9e0ae02e3338', 'msg_type': 'comm_msg', 'parent_header': {}, 'metadata': {}, 'content': {'comm_id': '405f8c52770f434f80048e2e99b03133', 'data': {'method': 'custom', 'content': {'event': 'mouse_out', 'x': 25.928745229395652, 'y': 482.3500317677533}}}, 'buffers': []})\n",
      "DEBUG:Comm:handle_msg[2607e2305211476fab53190d8146b8e1]({'header': {'date': datetime.datetime(2024, 10, 8, 20, 28, 34, 756000, tzinfo=tzutc()), 'msg_id': 'bd9aa03a-7ce6-442d-87aa-595a4744bf7a', 'msg_type': 'comm_msg', 'session': '28950468-58ca-494e-b47f-fbd55678ef50', 'username': '18153ef9-50e0-4d4b-ad84-32d9963a420e', 'version': '5.2'}, 'msg_id': 'bd9aa03a-7ce6-442d-87aa-595a4744bf7a', 'msg_type': 'comm_msg', 'parent_header': {}, 'metadata': {}, 'content': {'comm_id': '2607e2305211476fab53190d8146b8e1', 'data': {'method': 'custom', 'content': {'event': 'click'}}}, 'buffers': []})\n",
      "INFO:root:saving\n",
      "INFO:root:saved\n"
     ]
    }
   ],
   "source": [
    "async def f():\n",
    "    point = Points(task_name, img, coordinates_path, size_multiplier)\n",
    "    x = await wait_for_click(point.button)\n",
    "    point.vbox.close()\n",
    "    point.canvas.close()\n",
    "    point.on_done()\n",
    "asyncio.ensure_future(f())"
   ]
  }
 ],
 "metadata": {
  "kernelspec": {
   "display_name": "p3po",
   "language": "python",
   "name": "python3"
  },
  "language_info": {
   "codemirror_mode": {
    "name": "ipython",
    "version": 3
   },
   "file_extension": ".py",
   "mimetype": "text/x-python",
   "name": "python",
   "nbconvert_exporter": "python",
   "pygments_lexer": "ipython3",
   "version": "3.9.20"
  }
 },
 "nbformat": 4,
 "nbformat_minor": 2
}
